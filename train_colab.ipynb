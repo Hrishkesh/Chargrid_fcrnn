{
  "nbformat": 4,
  "nbformat_minor": 0,
  "metadata": {
    "colab": {
      "name": "train_colab.ipynb",
      "provenance": [],
      "machine_shape": "hm",
      "include_colab_link": true
    },
    "kernelspec": {
      "name": "python3",
      "display_name": "Python 3"
    },
    "accelerator": "GPU"
  },
  "cells": [
    {
      "cell_type": "markdown",
      "metadata": {
        "id": "view-in-github",
        "colab_type": "text"
      },
      "source": [
        "<a href=\"https://colab.research.google.com/github/Hrishkesh/Chargrid_fcrnn/blob/master/train_colab.ipynb\" target=\"_parent\"><img src=\"https://colab.research.google.com/assets/colab-badge.svg\" alt=\"Open In Colab\"/></a>"
      ]
    },
    {
      "cell_type": "code",
      "metadata": {
        "id": "Tyanc5ne0G4S",
        "colab_type": "code",
        "colab": {
          "base_uri": "https://localhost:8080/",
          "height": 119
        },
        "outputId": "c65e34b8-e26b-45ae-979d-fb9d6ddec372"
      },
      "source": [
        "!git clone https://github.com/Hrishkesh/Chargrid_fcrnn.git"
      ],
      "execution_count": 1,
      "outputs": [
        {
          "output_type": "stream",
          "text": [
            "Cloning into 'Chargrid_fcrnn'...\n",
            "remote: Enumerating objects: 72, done.\u001b[K\n",
            "remote: Counting objects: 100% (72/72), done.\u001b[K\n",
            "remote: Compressing objects: 100% (59/59), done.\u001b[K\n",
            "remote: Total 72 (delta 37), reused 38 (delta 11), pack-reused 0\u001b[K\n",
            "Unpacking objects: 100% (72/72), done.\n"
          ],
          "name": "stdout"
        }
      ]
    },
    {
      "cell_type": "code",
      "metadata": {
        "id": "X3Fu7vah0zkm",
        "colab_type": "code",
        "colab": {
          "base_uri": "https://localhost:8080/",
          "height": 34
        },
        "outputId": "0dbb54a9-1654-4f2a-b5ae-f6d4673d168a"
      },
      "source": [
        "!ls"
      ],
      "execution_count": 2,
      "outputs": [
        {
          "output_type": "stream",
          "text": [
            "Chargrid_fcrnn\tsample_data\n"
          ],
          "name": "stdout"
        }
      ]
    },
    {
      "cell_type": "code",
      "metadata": {
        "id": "SMeRADzN0UN2",
        "colab_type": "code",
        "colab": {
          "base_uri": "https://localhost:8080/",
          "height": 51
        },
        "outputId": "eaaa207e-4215-401c-bb62-10bb8727ce5f"
      },
      "source": [
        "import os\n",
        "from getpass import getpass\n",
        "user = getpass('GitHub user')\n",
        "password = getpass('GitHub password')\n",
        "os.environ['GITHUB_AUTH'] = user + ':' + password\n",
        "os.environ['GITHUB_USER'] = user\n",
        "os.environ['GITHUB_PASSWORD'] = user"
      ],
      "execution_count": 3,
      "outputs": [
        {
          "output_type": "stream",
          "text": [
            "GitHub user··········\n",
            "GitHub password··········\n"
          ],
          "name": "stdout"
        }
      ]
    },
    {
      "cell_type": "code",
      "metadata": {
        "id": "q_zLz_Js0Y9c",
        "colab_type": "code",
        "colab": {}
      },
      "source": [
        "!git config --global user.email \"hrishkesh.pattepu@gmail.com\"\n",
        "!git config --global user.name \"Hrishkesh\""
      ],
      "execution_count": 4,
      "outputs": []
    },
    {
      "cell_type": "code",
      "metadata": {
        "id": "rrjc_5JR0h55",
        "colab_type": "code",
        "colab": {}
      },
      "source": [
        "!cd Chargrid_fcrnn && git remote set-url origin https://$GITHUB_AUTH@github.com/$GITHUB_USER/Chargrid_fcrnn.git"
      ],
      "execution_count": 5,
      "outputs": []
    },
    {
      "cell_type": "code",
      "metadata": {
        "id": "XYnGgcMI0wqk",
        "colab_type": "code",
        "colab": {
          "base_uri": "https://localhost:8080/",
          "height": 34
        },
        "outputId": "d9c4cc5b-1614-49d3-ee0f-337c98edda56"
      },
      "source": [
        "!cd Chargrid_fcrnn && git pull"
      ],
      "execution_count": 6,
      "outputs": [
        {
          "output_type": "stream",
          "text": [
            "Already up to date.\n"
          ],
          "name": "stdout"
        }
      ]
    },
    {
      "cell_type": "code",
      "metadata": {
        "id": "iPMQNB6D1DcB",
        "colab_type": "code",
        "colab": {}
      },
      "source": [
        "!cd Chargrid_fcrnn && git add ."
      ],
      "execution_count": 7,
      "outputs": []
    },
    {
      "cell_type": "code",
      "metadata": {
        "id": "mukL4xf21FgU",
        "colab_type": "code",
        "colab": {
          "base_uri": "https://localhost:8080/",
          "height": 85
        },
        "outputId": "be92b221-81dc-445e-996b-1c3dfd365659"
      },
      "source": [
        "!cd Chargrid_fcrnn && git commit -m \"training\""
      ],
      "execution_count": 8,
      "outputs": [
        {
          "output_type": "stream",
          "text": [
            "On branch master\n",
            "Your branch is up to date with 'origin/master'.\n",
            "\n",
            "nothing to commit, working tree clean\n"
          ],
          "name": "stdout"
        }
      ]
    },
    {
      "cell_type": "code",
      "metadata": {
        "id": "amcB0ggB1JAQ",
        "colab_type": "code",
        "colab": {
          "base_uri": "https://localhost:8080/",
          "height": 34
        },
        "outputId": "c15b8005-d0cd-4362-bd8d-98a323f65beb"
      },
      "source": [
        "!cd Chargrid_fcrnn && git push"
      ],
      "execution_count": 9,
      "outputs": [
        {
          "output_type": "stream",
          "text": [
            "Everything up-to-date\n"
          ],
          "name": "stdout"
        }
      ]
    },
    {
      "cell_type": "code",
      "metadata": {
        "id": "Ei1mMGIW1MjH",
        "colab_type": "code",
        "colab": {
          "base_uri": "https://localhost:8080/",
          "height": 445
        },
        "outputId": "b5773065-185d-4a89-d81a-b60dcda52d1a"
      },
      "source": [
        "!wget https://www.dropbox.com/s/bzztxbuf2nm2k4o/network.zip"
      ],
      "execution_count": 10,
      "outputs": [
        {
          "output_type": "stream",
          "text": [
            "--2020-07-21 14:53:53--  https://www.dropbox.com/s/bzztxbuf2nm2k4o/network.zip\n",
            "Resolving www.dropbox.com (www.dropbox.com)... 162.125.82.1, 2620:100:6032:1::a27d:5201\n",
            "Connecting to www.dropbox.com (www.dropbox.com)|162.125.82.1|:443... connected.\n",
            "HTTP request sent, awaiting response... 301 Moved Permanently\n",
            "Location: /s/raw/bzztxbuf2nm2k4o/network.zip [following]\n",
            "--2020-07-21 14:53:53--  https://www.dropbox.com/s/raw/bzztxbuf2nm2k4o/network.zip\n",
            "Reusing existing connection to www.dropbox.com:443.\n",
            "HTTP request sent, awaiting response... 302 Found\n",
            "Location: https://uc06be551d4c69f3546308735a95.dl.dropboxusercontent.com/cd/0/inline/A78yBcevhbfP2Q9RBRNGhBFIcQQZdlOugCXFz8pEOXTQomSeFLQJQme_pL7RbNvjI25BrsB-R2ln9UX_Jm6bsgrN92Ox-DIwWs3pnyeiTirRIF7WxJXwPFmGI88m1XtIs0U/file# [following]\n",
            "--2020-07-21 14:53:54--  https://uc06be551d4c69f3546308735a95.dl.dropboxusercontent.com/cd/0/inline/A78yBcevhbfP2Q9RBRNGhBFIcQQZdlOugCXFz8pEOXTQomSeFLQJQme_pL7RbNvjI25BrsB-R2ln9UX_Jm6bsgrN92Ox-DIwWs3pnyeiTirRIF7WxJXwPFmGI88m1XtIs0U/file\n",
            "Resolving uc06be551d4c69f3546308735a95.dl.dropboxusercontent.com (uc06be551d4c69f3546308735a95.dl.dropboxusercontent.com)... 162.125.82.15, 2620:100:6032:15::a27d:520f\n",
            "Connecting to uc06be551d4c69f3546308735a95.dl.dropboxusercontent.com (uc06be551d4c69f3546308735a95.dl.dropboxusercontent.com)|162.125.82.15|:443... connected.\n",
            "HTTP request sent, awaiting response... 302 Found\n",
            "Location: /cd/0/inline2/A782Nuq4orsbGL1AvdkrNz2UzHqPqo3uaU8QiQQ5s2d_uHloGfKLM8qaEz1XTAYIaE2eSdIEz9yprJq8GN57y_OlBmyfeiLqqn1NgrZ_3PrRljWYZ2Rvc1gmoUE7p0BC-Iv3GL2_CrKi8qfLbAcOncamPkQfQ7INVNuiI5qTeYlZBuQkyQ2YoQ0I9g_ZCJg-FD-R4vMCNkxkZZauMJhAd2Xc6M7hRp6EG7fT9zIWBDQhNYiHsOpuJofr87dty3fyWVw9hOtwYhLwcy4SWfrJsAl849A9B7jJY1gUuIYFemq9zJuMePuGJR3anDa50R4oa_ScCmG6-v3lK702Mmf9f2ZDPBrKj_Ud5Z4kjuUxFnwhYA/file [following]\n",
            "--2020-07-21 14:53:54--  https://uc06be551d4c69f3546308735a95.dl.dropboxusercontent.com/cd/0/inline2/A782Nuq4orsbGL1AvdkrNz2UzHqPqo3uaU8QiQQ5s2d_uHloGfKLM8qaEz1XTAYIaE2eSdIEz9yprJq8GN57y_OlBmyfeiLqqn1NgrZ_3PrRljWYZ2Rvc1gmoUE7p0BC-Iv3GL2_CrKi8qfLbAcOncamPkQfQ7INVNuiI5qTeYlZBuQkyQ2YoQ0I9g_ZCJg-FD-R4vMCNkxkZZauMJhAd2Xc6M7hRp6EG7fT9zIWBDQhNYiHsOpuJofr87dty3fyWVw9hOtwYhLwcy4SWfrJsAl849A9B7jJY1gUuIYFemq9zJuMePuGJR3anDa50R4oa_ScCmG6-v3lK702Mmf9f2ZDPBrKj_Ud5Z4kjuUxFnwhYA/file\n",
            "Reusing existing connection to uc06be551d4c69f3546308735a95.dl.dropboxusercontent.com:443.\n",
            "HTTP request sent, awaiting response... 200 OK\n",
            "Length: 133937012 (128M) [application/zip]\n",
            "Saving to: ‘network.zip’\n",
            "\n",
            "network.zip         100%[===================>] 127.73M  12.0MB/s    in 11s     \n",
            "\n",
            "2020-07-21 14:54:05 (12.0 MB/s) - ‘network.zip’ saved [133937012/133937012]\n",
            "\n"
          ],
          "name": "stdout"
        }
      ]
    },
    {
      "cell_type": "code",
      "metadata": {
        "id": "Bt-_BTHJ1eDA",
        "colab_type": "code",
        "colab": {}
      },
      "source": [
        "!mkdir /content/data"
      ],
      "execution_count": 11,
      "outputs": []
    },
    {
      "cell_type": "code",
      "metadata": {
        "id": "HzBIKNiW1gIE",
        "colab_type": "code",
        "colab": {}
      },
      "source": [
        "!unzip network.zip -d /content/data/"
      ],
      "execution_count": null,
      "outputs": []
    },
    {
      "cell_type": "code",
      "metadata": {
        "id": "s65UxU3e1h76",
        "colab_type": "code",
        "colab": {
          "base_uri": "https://localhost:8080/",
          "height": 51
        },
        "outputId": "11c87e1d-6dba-4c1c-970b-ffd94e2cfccf"
      },
      "source": [
        "!ls /content/data"
      ],
      "execution_count": 14,
      "outputs": [
        {
          "output_type": "stream",
          "text": [
            "outdir_np_bbox_anchor_coord  outdir_np_chargrid_1h\n",
            "outdir_np_bbox_anchor_mask   outdir_np_gt_1h\n"
          ],
          "name": "stdout"
        }
      ]
    },
    {
      "cell_type": "code",
      "metadata": {
        "id": "cDdYaQCh1lee",
        "colab_type": "code",
        "colab": {
          "base_uri": "https://localhost:8080/",
          "height": 119
        },
        "outputId": "843d3a5a-c049-4b61-abf3-f01c96d77ae4"
      },
      "source": [
        "cd Chargrid_fcrnn && python preprocess_fcrnn.py!"
      ],
      "execution_count": 15,
      "outputs": [
        {
          "output_type": "stream",
          "text": [
            "Number of chargrid files: 602\n",
            "Number of segmentation mask files: 602\n",
            "Number of anchor mask files: 602\n",
            "Number of bounding box anchor files: 602\n",
            "Saving X51005605335.npy as image and processing\n",
            "Spent 2.20 mins to load the data\n"
          ],
          "name": "stdout"
        }
      ]
    },
    {
      "cell_type": "code",
      "metadata": {
        "id": "s7Q3523n71Q2",
        "colab_type": "code",
        "colab": {}
      },
      "source": [
        "!mkdir -p /content/Chargrid_fcrnn/models/pretrain"
      ],
      "execution_count": 16,
      "outputs": []
    },
    {
      "cell_type": "code",
      "metadata": {
        "id": "LrgKSjnZ8SOl",
        "colab_type": "code",
        "colab": {}
      },
      "source": [
        "!wget https://github.com/fchollet/deep-learning-models/releases/download/v0.1/vgg16_weights_tf_dim_ordering_tf_kernels.h5"
      ],
      "execution_count": null,
      "outputs": []
    },
    {
      "cell_type": "code",
      "metadata": {
        "id": "XoeYUF-y8bA4",
        "colab_type": "code",
        "colab": {}
      },
      "source": [
        "!mv vgg16_weights_tf_dim_ordering_tf_kernels.h5 /content/Chargrid_fcrnn/models/pretrain"
      ],
      "execution_count": 18,
      "outputs": []
    },
    {
      "cell_type": "code",
      "metadata": {
        "id": "_ZfNsWwJO6RI",
        "colab_type": "code",
        "colab": {
          "base_uri": "https://localhost:8080/",
          "height": 391
        },
        "outputId": "7ae4022b-5e94-47c5-821a-883dfaf3a82e"
      },
      "source": [
        "!pip install --upgrade wandb -q\n",
        "!wandb login 47ae077cee2c514d2b004ca904e0a365185a06c1"
      ],
      "execution_count": 19,
      "outputs": [
        {
          "output_type": "stream",
          "text": [
            "\u001b[K     |████████████████████████████████| 1.4MB 2.8MB/s \n",
            "\u001b[K     |████████████████████████████████| 112kB 19.0MB/s \n",
            "\u001b[K     |████████████████████████████████| 163kB 17.5MB/s \n",
            "\u001b[K     |████████████████████████████████| 102kB 9.4MB/s \n",
            "\u001b[K     |████████████████████████████████| 102kB 9.2MB/s \n",
            "\u001b[K     |████████████████████████████████| 71kB 7.1MB/s \n",
            "\u001b[K     |████████████████████████████████| 71kB 7.2MB/s \n",
            "\u001b[?25h  Building wheel for gql (setup.py) ... \u001b[?25l\u001b[?25hdone\n",
            "  Building wheel for watchdog (setup.py) ... \u001b[?25l\u001b[?25hdone\n",
            "  Building wheel for subprocess32 (setup.py) ... \u001b[?25l\u001b[?25hdone\n",
            "  Building wheel for graphql-core (setup.py) ... \u001b[?25l\u001b[?25hdone\n",
            "  Building wheel for pathtools (setup.py) ... \u001b[?25l\u001b[?25hdone\n",
            "\u001b[34m\u001b[1mwandb\u001b[0m: (1) Create a W&B account\n",
            "\u001b[34m\u001b[1mwandb\u001b[0m: (2) Use an existing W&B account\n",
            "\u001b[34m\u001b[1mwandb\u001b[0m: (3) Don't visualize my results\n",
            "\u001b[34m\u001b[1mwandb\u001b[0m: Enter your choice: 2\n",
            "\u001b[34m\u001b[1mwandb\u001b[0m: You chose 'Use an existing W&B account'\n",
            "\u001b[34m\u001b[1mwandb\u001b[0m: You can find your API key in your browser here: https://app.wandb.ai/authorize\n",
            "\u001b[34m\u001b[1mwandb\u001b[0m: Paste an API key from your profile and hit enter\n",
            "\u001b[34m\u001b[1mwandb\u001b[0m: Appending key for api.wandb.ai to your netrc file: /root/.netrc\n",
            "\u001b[34m\u001b[1mwandb\u001b[0m: Appending key for api.wandb.ai to your netrc file: /root/.netrc\n",
            "\u001b[32mSuccessfully logged in to Weights & Biases!\u001b[0m\n"
          ],
          "name": "stdout"
        }
      ]
    },
    {
      "cell_type": "code",
      "metadata": {
        "id": "NsUM7Fi42Ero",
        "colab_type": "code",
        "colab": {
          "base_uri": "https://localhost:8080/",
          "height": 1000
        },
        "outputId": "9930c0ca-32d4-43d7-b405-67909ec648b1"
      },
      "source": [
        "!cd Chargrid_fcrnn && python train.py"
      ],
      "execution_count": 20,
      "outputs": [
        {
          "output_type": "stream",
          "text": [
            "Using TensorFlow backend.\n",
            "2020-07-21 15:03:10.271354: I tensorflow/stream_executor/platform/default/dso_loader.cc:44] Successfully opened dynamic library libcudart.so.10.1\n",
            "\u001b[34m\u001b[1mwandb\u001b[0m: Tracking run with wandb version 0.9.3\n",
            "\u001b[34m\u001b[1mwandb\u001b[0m: Run data is saved locally in wandb/run-20200721_150311-106qagaq\n",
            "\u001b[34m\u001b[1mwandb\u001b[0m: Syncing run \u001b[33mlyric-sea-6\u001b[0m\n",
            "\u001b[34m\u001b[1mwandb\u001b[0m: ⭐️ View project at \u001b[34m\u001b[4mhttps://app.wandb.ai/hrishkeshpattepu/chargrid_fcrnn-\u001b[0m\n",
            "\u001b[34m\u001b[1mwandb\u001b[0m: 🚀 View run at \u001b[34m\u001b[4mhttps://app.wandb.ai/hrishkeshpattepu/chargrid_fcrnn-/runs/106qagaq\u001b[0m\n",
            "\u001b[34m\u001b[1mwandb\u001b[0m: Run `wandb off` to turn off syncing.\n",
            "\n",
            "Training images per class:\n",
            "{'Address': 1125, 'Company name': 725, 'Date': 677, 'Total': 1191, 'bg': 0}\n",
            "Num classes (including bg) = 5\n",
            "{'Total': 0, 'Address': 1, 'Company name': 2, 'Date': 3, 'bg': 4}\n",
            "Config has been written to model_vgg_config.pickle, and can be loaded when testing to ensure correct results\n",
            "Num train samples (images) 602\n",
            "Original image: height=256 width=128\n",
            "Resized image:  height=600 width=300 C.im_size=300\n",
            "Feature map size: height=37 width=18 C.rpn_stride=16\n",
            "(1, 600, 300, 3)\n",
            "2 includes 'y_rpn_cls' and 'y_rpn_regr'\n",
            "Shape of y_rpn_cls (1, 37, 18, 18)\n",
            "Shape of y_rpn_regr (1, 37, 18, 72)\n",
            "{'filepath': '/content/data/outdir_np_chargrid/X51007231370.npy', 'width': 128, 'height': 256, 'bboxes': [{'class': 'Company name', 'x1': 0, 'x2': 127, 'y1': 0, 'y2': 16}, {'class': 'Company name', 'x1': 30, 'x2': 101, 'y1': 12, 'y2': 19}, {'class': 'Address', 'x1': 30, 'x2': 101, 'y1': 12, 'y2': 19}, {'class': 'Date', 'x1': 76, 'x2': 128, 'y1': 64, 'y2': 81}, {'class': 'Total', 'x1': 97, 'x2': 128, 'y1': 155, 'y2': 171}], 'imageset': 'trainval'}\n",
            "Number of positive anchors for this image: 6\n",
            "(array([ 2,  2,  2,  2, 10, 10, 10, 10, 10, 10, 13, 14, 17, 23, 23, 28, 28,\n",
            "       29]), array([ 8,  8, 10, 10, 14, 14, 14, 14, 14, 14, 13, 12,  9, 14, 14,  7,  9,\n",
            "        7]), array([ 3, 12,  8, 17,  3,  4,  5, 12, 13, 14,  5,  2,  6,  3, 12,  1,  6,\n",
            "        3]))\n",
            "(array([ 2,  2,  2,  2,  2,  2,  2,  2, 10, 10, 10, 10, 10, 10, 10, 10, 10,\n",
            "       10, 10, 10, 23, 23, 23, 23]), array([ 8,  8,  8,  8, 10, 10, 10, 10, 14, 14, 14, 14, 14, 14, 14, 14, 14,\n",
            "       14, 14, 14, 14, 14, 14, 14]), array([12, 13, 14, 15, 32, 33, 34, 35, 12, 13, 14, 15, 16, 17, 18, 19, 20,\n",
            "       21, 22, 23, 12, 13, 14, 15]))\n",
            "y_rpn_cls for possible pos anchor: [0. 0. 0. 1. 0. 0. 0. 0. 0. 0. 0. 0. 1. 0. 0. 0. 0. 0.]\n",
            "y_rpn_regr for positive anchor: [ 0.          0.          0.          0.          0.          0.\n",
            "  0.          0.          0.          0.          0.          0.\n",
            "  1.          1.          1.          1.          0.          0.\n",
            "  0.          0.          0.          0.          0.          0.\n",
            "  0.          0.          0.          0.          0.          0.\n",
            "  0.          0.          0.          0.          0.          0.\n",
            "  0.          0.          0.          0.          0.          0.\n",
            "  0.          0.          0.          0.          0.          0.\n",
            "  0.54736328 -0.45898438  1.04960728 -2.67229414  0.          0.\n",
            "  0.          0.          0.          0.          0.          0.\n",
            "  0.          0.          0.          0.          0.          0.\n",
            "  0.          0.          0.          0.          0.          0.        ]\n",
            "Center position of positive anchor:  (128, 32)\n",
            "Center position of positive anchor:  (160, 32)\n",
            "Center position of positive anchor:  (224, 160)\n",
            "Center position of positive anchor:  (224, 160)\n",
            "Center position of positive anchor:  (224, 160)\n",
            "Center position of positive anchor:  (224, 368)\n",
            "<Figure size 1000x1000 with 2 Axes>\n",
            "y_rpn_cls for possible pos anchor: \n",
            "[0. 0. 0. 1. 0. 0. 0. 0. 0. 0. 0. 0. 1. 0. 0. 0. 0. 0.]\n",
            "y_rpn_regr for positive anchor: \n",
            "[ 0.          0.          0.          0.          0.          0.\n",
            "  0.          0.          0.          0.          0.          0.\n",
            "  1.          1.          1.          1.          0.          0.\n",
            "  0.          0.          0.          0.          0.          0.\n",
            "  0.          0.          0.          0.          0.          0.\n",
            "  0.          0.          0.          0.          0.          0.\n",
            "  0.          0.          0.          0.          0.          0.\n",
            "  0.          0.          0.          0.          0.          0.\n",
            "  0.54736328 -0.45898438  1.04960728 -2.67229414  0.          0.\n",
            "  0.          0.          0.          0.          0.          0.\n",
            "  0.          0.          0.          0.          0.          0.\n",
            "  0.          0.          0.          0.          0.          0.        ]\n",
            "2020-07-21 15:03:13.444100: I tensorflow/stream_executor/platform/default/dso_loader.cc:44] Successfully opened dynamic library libcuda.so.1\n",
            "2020-07-21 15:03:13.489795: I tensorflow/stream_executor/cuda/cuda_gpu_executor.cc:981] successful NUMA node read from SysFS had negative value (-1), but there must be at least one NUMA node, so returning NUMA node zero\n",
            "2020-07-21 15:03:13.490488: I tensorflow/core/common_runtime/gpu/gpu_device.cc:1561] Found device 0 with properties: \n",
            "pciBusID: 0000:00:04.0 name: Tesla P100-PCIE-16GB computeCapability: 6.0\n",
            "coreClock: 1.3285GHz coreCount: 56 deviceMemorySize: 15.90GiB deviceMemoryBandwidth: 681.88GiB/s\n",
            "2020-07-21 15:03:13.490547: I tensorflow/stream_executor/platform/default/dso_loader.cc:44] Successfully opened dynamic library libcudart.so.10.1\n",
            "2020-07-21 15:03:13.773025: I tensorflow/stream_executor/platform/default/dso_loader.cc:44] Successfully opened dynamic library libcublas.so.10\n",
            "2020-07-21 15:03:13.918866: I tensorflow/stream_executor/platform/default/dso_loader.cc:44] Successfully opened dynamic library libcufft.so.10\n",
            "2020-07-21 15:03:13.946387: I tensorflow/stream_executor/platform/default/dso_loader.cc:44] Successfully opened dynamic library libcurand.so.10\n",
            "2020-07-21 15:03:14.253318: I tensorflow/stream_executor/platform/default/dso_loader.cc:44] Successfully opened dynamic library libcusolver.so.10\n",
            "2020-07-21 15:03:14.283451: I tensorflow/stream_executor/platform/default/dso_loader.cc:44] Successfully opened dynamic library libcusparse.so.10\n",
            "2020-07-21 15:03:14.851362: I tensorflow/stream_executor/platform/default/dso_loader.cc:44] Successfully opened dynamic library libcudnn.so.7\n",
            "2020-07-21 15:03:14.851585: I tensorflow/stream_executor/cuda/cuda_gpu_executor.cc:981] successful NUMA node read from SysFS had negative value (-1), but there must be at least one NUMA node, so returning NUMA node zero\n",
            "2020-07-21 15:03:14.852436: I tensorflow/stream_executor/cuda/cuda_gpu_executor.cc:981] successful NUMA node read from SysFS had negative value (-1), but there must be at least one NUMA node, so returning NUMA node zero\n",
            "2020-07-21 15:03:14.853050: I tensorflow/core/common_runtime/gpu/gpu_device.cc:1703] Adding visible gpu devices: 0\n",
            "2020-07-21 15:03:14.908857: I tensorflow/core/platform/profile_utils/cpu_utils.cc:102] CPU Frequency: 2200000000 Hz\n",
            "2020-07-21 15:03:14.909217: I tensorflow/compiler/xla/service/service.cc:168] XLA service 0x2742f40 initialized for platform Host (this does not guarantee that XLA will be used). Devices:\n",
            "2020-07-21 15:03:14.909254: I tensorflow/compiler/xla/service/service.cc:176]   StreamExecutor device (0): Host, Default Version\n",
            "2020-07-21 15:03:15.087075: I tensorflow/stream_executor/cuda/cuda_gpu_executor.cc:981] successful NUMA node read from SysFS had negative value (-1), but there must be at least one NUMA node, so returning NUMA node zero\n",
            "2020-07-21 15:03:15.087937: I tensorflow/compiler/xla/service/service.cc:168] XLA service 0x2743100 initialized for platform CUDA (this does not guarantee that XLA will be used). Devices:\n",
            "2020-07-21 15:03:15.087969: I tensorflow/compiler/xla/service/service.cc:176]   StreamExecutor device (0): Tesla P100-PCIE-16GB, Compute Capability 6.0\n",
            "2020-07-21 15:03:15.089356: I tensorflow/stream_executor/cuda/cuda_gpu_executor.cc:981] successful NUMA node read from SysFS had negative value (-1), but there must be at least one NUMA node, so returning NUMA node zero\n",
            "2020-07-21 15:03:15.089975: I tensorflow/core/common_runtime/gpu/gpu_device.cc:1561] Found device 0 with properties: \n",
            "pciBusID: 0000:00:04.0 name: Tesla P100-PCIE-16GB computeCapability: 6.0\n",
            "coreClock: 1.3285GHz coreCount: 56 deviceMemorySize: 15.90GiB deviceMemoryBandwidth: 681.88GiB/s\n",
            "2020-07-21 15:03:15.090052: I tensorflow/stream_executor/platform/default/dso_loader.cc:44] Successfully opened dynamic library libcudart.so.10.1\n",
            "2020-07-21 15:03:15.090088: I tensorflow/stream_executor/platform/default/dso_loader.cc:44] Successfully opened dynamic library libcublas.so.10\n",
            "2020-07-21 15:03:15.090112: I tensorflow/stream_executor/platform/default/dso_loader.cc:44] Successfully opened dynamic library libcufft.so.10\n",
            "2020-07-21 15:03:15.090135: I tensorflow/stream_executor/platform/default/dso_loader.cc:44] Successfully opened dynamic library libcurand.so.10\n",
            "2020-07-21 15:03:15.090166: I tensorflow/stream_executor/platform/default/dso_loader.cc:44] Successfully opened dynamic library libcusolver.so.10\n",
            "2020-07-21 15:03:15.090209: I tensorflow/stream_executor/platform/default/dso_loader.cc:44] Successfully opened dynamic library libcusparse.so.10\n",
            "2020-07-21 15:03:15.090234: I tensorflow/stream_executor/platform/default/dso_loader.cc:44] Successfully opened dynamic library libcudnn.so.7\n",
            "2020-07-21 15:03:15.090312: I tensorflow/stream_executor/cuda/cuda_gpu_executor.cc:981] successful NUMA node read from SysFS had negative value (-1), but there must be at least one NUMA node, so returning NUMA node zero\n",
            "2020-07-21 15:03:15.091061: I tensorflow/stream_executor/cuda/cuda_gpu_executor.cc:981] successful NUMA node read from SysFS had negative value (-1), but there must be at least one NUMA node, so returning NUMA node zero\n",
            "2020-07-21 15:03:15.091740: I tensorflow/core/common_runtime/gpu/gpu_device.cc:1703] Adding visible gpu devices: 0\n",
            "2020-07-21 15:03:15.098884: I tensorflow/stream_executor/platform/default/dso_loader.cc:44] Successfully opened dynamic library libcudart.so.10.1\n",
            "2020-07-21 15:03:21.528928: I tensorflow/core/common_runtime/gpu/gpu_device.cc:1102] Device interconnect StreamExecutor with strength 1 edge matrix:\n",
            "2020-07-21 15:03:21.528984: I tensorflow/core/common_runtime/gpu/gpu_device.cc:1108]      0 \n",
            "2020-07-21 15:03:21.528996: I tensorflow/core/common_runtime/gpu/gpu_device.cc:1121] 0:   N \n",
            "2020-07-21 15:03:21.538562: I tensorflow/stream_executor/cuda/cuda_gpu_executor.cc:981] successful NUMA node read from SysFS had negative value (-1), but there must be at least one NUMA node, so returning NUMA node zero\n",
            "2020-07-21 15:03:21.539311: I tensorflow/stream_executor/cuda/cuda_gpu_executor.cc:981] successful NUMA node read from SysFS had negative value (-1), but there must be at least one NUMA node, so returning NUMA node zero\n",
            "2020-07-21 15:03:21.540035: W tensorflow/core/common_runtime/gpu/gpu_bfc_allocator.cc:39] Overriding allow_growth setting because the TF_FORCE_GPU_ALLOW_GROWTH environment variable is set. Original config value was 0.\n",
            "2020-07-21 15:03:21.540090: I tensorflow/core/common_runtime/gpu/gpu_device.cc:1247] Created TensorFlow device (/job:localhost/replica:0/task:0/device:GPU:0 with 14974 MB memory) -> physical GPU (device: 0, name: Tesla P100-PCIE-16GB, pci bus id: 0000:00:04.0, compute capability: 6.0)\n",
            "This is the first time of your training\n",
            "loading weights from models/pretrain/vgg16_weights_tf_dim_ordering_tf_kernels.h5\n",
            "Epoch 1/20\n",
            "2020-07-21 15:03:24.820192: I tensorflow/stream_executor/platform/default/dso_loader.cc:44] Successfully opened dynamic library libcudnn.so.7\n",
            "2020-07-21 15:03:29.246965: I tensorflow/stream_executor/platform/default/dso_loader.cc:44] Successfully opened dynamic library libcublas.so.10\n",
            "1000/1000 [==============================] - 403s 403ms/step - rpn_cls: 4.2208 - rpn_regr: 0.4812 - final_cls: 1.1480 - final_regr: 0.3377\n",
            "Mean number of bounding boxes from RPN overlapping ground truth boxes: 7.752247752247753\n",
            "Classifier accuracy for bounding boxes from RPN: 0.592\n",
            "Loss RPN classifier: 3.385582425799861\n",
            "Loss RPN regression: 0.4262535736709833\n",
            "Loss Detector classifier: 1.02579369866848\n",
            "Loss Detector regression: 0.3013758012256585\n",
            "Total loss: 5.139005499364982\n",
            "Elapsed time: 402.5244610309601\n",
            "Total loss decreased from inf to 5.139005499364982, saving weights\n",
            "2020-07-21 15:10:05.347187: W tensorflow/core/framework/cpu_allocator_impl.cc:81] Allocation of 411041792 exceeds 10% of free system memory.\n",
            "2020-07-21 15:10:06.284958: W tensorflow/core/framework/cpu_allocator_impl.cc:81] Allocation of 67108864 exceeds 10% of free system memory.\n",
            "Epoch 2/20\n",
            "1000/1000 [==============================] - 395s 395ms/step - rpn_cls: 2.6476 - rpn_regr: 0.3737 - final_cls: 0.8580 - final_regr: 0.2495\n",
            "Mean number of bounding boxes from RPN overlapping ground truth boxes: 9.868\n",
            "Classifier accuracy for bounding boxes from RPN: 0.62275\n",
            "Loss RPN classifier: 2.5070446709528333\n",
            "Loss RPN regression: 0.3616905144974589\n",
            "Loss Detector classifier: 0.84568162278831\n",
            "Loss Detector regression: 0.24476734471973033\n",
            "Total loss: 3.959184152958333\n",
            "Elapsed time: 397.5138704776764\n",
            "Total loss decreased from 5.139005499364982 to 3.959184152958333, saving weights\n",
            "2020-07-21 15:16:42.895429: W tensorflow/core/framework/cpu_allocator_impl.cc:81] Allocation of 411041792 exceeds 10% of free system memory.\n",
            "2020-07-21 15:16:43.486020: W tensorflow/core/framework/cpu_allocator_impl.cc:81] Allocation of 67108864 exceeds 10% of free system memory.\n",
            "Epoch 3/20\n",
            "1000/1000 [==============================] - 394s 394ms/step - rpn_cls: 2.3105 - rpn_regr: 0.3387 - final_cls: 0.8161 - final_regr: 0.2492\n",
            "Mean number of bounding boxes from RPN overlapping ground truth boxes: 10.608391608391608\n",
            "Classifier accuracy for bounding boxes from RPN: 0.6395\n",
            "Loss RPN classifier: 2.2311529814179374\n",
            "Loss RPN regression: 0.3300814660005271\n",
            "Loss Detector classifier: 0.8028290112763643\n",
            "Loss Detector regression: 0.23529370824899523\n",
            "Total loss: 3.5993571669438245\n",
            "Elapsed time: 396.5683650970459\n",
            "Total loss decreased from 3.959184152958333 to 3.5993571669438245, saving weights\n",
            "2020-07-21 15:23:19.470258: W tensorflow/core/framework/cpu_allocator_impl.cc:81] Allocation of 411041792 exceeds 10% of free system memory.\n",
            "Epoch 4/20\n",
            "1000/1000 [==============================] - 393s 393ms/step - rpn_cls: 2.0357 - rpn_regr: 0.3067 - final_cls: 0.7580 - final_regr: 0.2222\n",
            "Mean number of bounding boxes from RPN overlapping ground truth boxes: 10.981\n",
            "Classifier accuracy for bounding boxes from RPN: 0.657\n",
            "Loss RPN classifier: 1.961897384975815\n",
            "Loss RPN regression: 0.3030106223188341\n",
            "Loss Detector classifier: 0.7500058905929327\n",
            "Loss Detector regression: 0.2110122165319044\n",
            "Total loss: 3.225926114419486\n",
            "Elapsed time: 395.2890872955322\n",
            "Total loss decreased from 3.5993571669438245 to 3.225926114419486, saving weights\n",
            "Epoch 5/20\n",
            "1000/1000 [==============================] - 398s 398ms/step - rpn_cls: 1.9134 - rpn_regr: 0.2834 - final_cls: 0.7499 - final_regr: 0.1962\n",
            "Mean number of bounding boxes from RPN overlapping ground truth boxes: 11.166\n",
            "Classifier accuracy for bounding boxes from RPN: 0.671\n",
            "Loss RPN classifier: 1.8207764314563828\n",
            "Loss RPN regression: 0.28336895513907073\n",
            "Loss Detector classifier: 0.7273042124807835\n",
            "Loss Detector regression: 0.18659301364398562\n",
            "Total loss: 3.0180426127202225\n",
            "Elapsed time: 400.83290553092957\n",
            "Total loss decreased from 3.225926114419486 to 3.0180426127202225, saving weights\n",
            "Epoch 6/20\n",
            "1000/1000 [==============================] - 396s 396ms/step - rpn_cls: 1.6871 - rpn_regr: 0.2850 - final_cls: 0.7212 - final_regr: 0.1832\n",
            "Mean number of bounding boxes from RPN overlapping ground truth boxes: 11.491\n",
            "Classifier accuracy for bounding boxes from RPN: 0.68675\n",
            "Loss RPN classifier: 1.7268430854625758\n",
            "Loss RPN regression: 0.2765998524390161\n",
            "Loss Detector classifier: 0.7167507325932384\n",
            "Loss Detector regression: 0.18795095785986632\n",
            "Total loss: 2.9081446283546963\n",
            "Elapsed time: 400.3242585659027\n",
            "Total loss decreased from 3.0180426127202225 to 2.9081446283546963, saving weights\n",
            "Epoch 7/20\n",
            "1000/1000 [==============================] - 397s 397ms/step - rpn_cls: 1.6627 - rpn_regr: 0.2714 - final_cls: 0.6814 - final_regr: 0.1811\n",
            "Mean number of bounding boxes from RPN overlapping ground truth boxes: 11.351648351648352\n",
            "Classifier accuracy for bounding boxes from RPN: 0.688\n",
            "Loss RPN classifier: 1.618825942720654\n",
            "Loss RPN regression: 0.267832265291363\n",
            "Loss Detector classifier: 0.6841952680908143\n",
            "Loss Detector regression: 0.17069790904177354\n",
            "Total loss: 2.741551385144605\n",
            "Elapsed time: 399.7758734226227\n",
            "Total loss decreased from 2.9081446283546963 to 2.741551385144605, saving weights\n",
            "Epoch 8/20\n",
            "1000/1000 [==============================] - 394s 394ms/step - rpn_cls: 1.6098 - rpn_regr: 0.2663 - final_cls: 0.6526 - final_regr: 0.1848\n",
            "Mean number of bounding boxes from RPN overlapping ground truth boxes: 11.074925074925074\n",
            "Classifier accuracy for bounding boxes from RPN: 0.70825\n",
            "Loss RPN classifier: 1.5627207507456478\n",
            "Loss RPN regression: 0.26092852831445634\n",
            "Loss Detector classifier: 0.6510002283714712\n",
            "Loss Detector regression: 0.17648521469626577\n",
            "Total loss: 2.651134722127841\n",
            "Elapsed time: 396.93178391456604\n",
            "Total loss decreased from 2.741551385144605 to 2.651134722127841, saving weights\n",
            "Epoch 9/20\n",
            "1000/1000 [==============================] - 394s 394ms/step - rpn_cls: 1.4398 - rpn_regr: 0.2524 - final_cls: 0.6281 - final_regr: 0.1473\n",
            "Mean number of bounding boxes from RPN overlapping ground truth boxes: 11.132\n",
            "Classifier accuracy for bounding boxes from RPN: 0.7175\n",
            "Loss RPN classifier: 1.452067838771296\n",
            "Loss RPN regression: 0.251687227556482\n",
            "Loss Detector classifier: 0.6356746674068272\n",
            "Loss Detector regression: 0.15636615493288264\n",
            "Total loss: 2.4957958886674882\n",
            "Elapsed time: 396.24346947669983\n",
            "Total loss decreased from 2.651134722127841 to 2.4957958886674882, saving weights\n",
            "Epoch 10/20\n",
            "1000/1000 [==============================] - 393s 393ms/step - rpn_cls: 1.3047 - rpn_regr: 0.2497 - final_cls: 0.6253 - final_regr: 0.1581\n",
            "Mean number of bounding boxes from RPN overlapping ground truth boxes: 11.317365269461078\n",
            "Classifier accuracy for bounding boxes from RPN: 0.7185\n",
            "Loss RPN classifier: 1.3612983691385447\n",
            "Loss RPN regression: 0.24885160288028418\n",
            "Loss Detector classifier: 0.6298589629158378\n",
            "Loss Detector regression: 0.16805678072851152\n",
            "Total loss: 2.408065715663178\n",
            "Elapsed time: 395.91577339172363\n",
            "Total loss decreased from 2.4957958886674882 to 2.408065715663178, saving weights\n",
            "Epoch 11/20\n",
            "1000/1000 [==============================] - 394s 394ms/step - rpn_cls: 1.3034 - rpn_regr: 0.2436 - final_cls: 0.5961 - final_regr: 0.1640\n",
            "Mean number of bounding boxes from RPN overlapping ground truth boxes: 11.622754491017965\n",
            "Classifier accuracy for bounding boxes from RPN: 0.72825\n",
            "Loss RPN classifier: 1.321595187788691\n",
            "Loss RPN regression: 0.24021567175257952\n",
            "Loss Detector classifier: 0.6130197944045067\n",
            "Loss Detector regression: 0.15889710490824654\n",
            "Total loss: 2.3337277588540237\n",
            "Elapsed time: 396.3550283908844\n",
            "Total loss decreased from 2.408065715663178 to 2.3337277588540237, saving weights\n",
            "Epoch 12/20\n",
            "1000/1000 [==============================] - 393s 393ms/step - rpn_cls: 1.3342 - rpn_regr: 0.2356 - final_cls: 0.5739 - final_regr: 0.1549\n",
            "Mean number of bounding boxes from RPN overlapping ground truth boxes: 11.664335664335665\n",
            "Classifier accuracy for bounding boxes from RPN: 0.729\n",
            "Loss RPN classifier: 1.235968963641987\n",
            "Loss RPN regression: 0.23105518907681108\n",
            "Loss Detector classifier: 0.5999825347941369\n",
            "Loss Detector regression: 0.15271539641870185\n",
            "Total loss: 2.219722083931637\n",
            "Elapsed time: 397.4112505912781\n",
            "Total loss decreased from 2.3337277588540237 to 2.219722083931637, saving weights\n",
            "Epoch 13/20\n",
            "1000/1000 [==============================] - 392s 392ms/step - rpn_cls: 1.1613 - rpn_regr: 0.2349 - final_cls: 0.5815 - final_regr: 0.1519\n",
            "Mean number of bounding boxes from RPN overlapping ground truth boxes: 11.542\n",
            "Classifier accuracy for bounding boxes from RPN: 0.74025\n",
            "Loss RPN classifier: 1.1621933528335031\n",
            "Loss RPN regression: 0.23322750773467124\n",
            "Loss Detector classifier: 0.5867470752373338\n",
            "Loss Detector regression: 0.15291105387290008\n",
            "Total loss: 2.135078989678408\n",
            "Elapsed time: 395.1062445640564\n",
            "Total loss decreased from 2.219722083931637 to 2.135078989678408, saving weights\n",
            "Epoch 14/20\n",
            "1000/1000 [==============================] - 392s 392ms/step - rpn_cls: 1.1252 - rpn_regr: 0.2258 - final_cls: 0.5791 - final_regr: 0.1525\n",
            "Mean number of bounding boxes from RPN overlapping ground truth boxes: 11.245754245754245\n",
            "Classifier accuracy for bounding boxes from RPN: 0.74175\n",
            "Loss RPN classifier: 1.1386621113975688\n",
            "Loss RPN regression: 0.22403422298841177\n",
            "Loss Detector classifier: 0.56271203911677\n",
            "Loss Detector regression: 0.15585576358623804\n",
            "Total loss: 2.0812641370889886\n",
            "Elapsed time: 394.1831760406494\n",
            "Total loss decreased from 2.135078989678408 to 2.0812641370889886, saving weights\n",
            "Epoch 15/20\n",
            "1000/1000 [==============================] - 392s 392ms/step - rpn_cls: 1.0863 - rpn_regr: 0.2200 - final_cls: 0.5537 - final_regr: 0.1510\n",
            "Mean number of bounding boxes from RPN overlapping ground truth boxes: 11.219\n",
            "Classifier accuracy for bounding boxes from RPN: 0.761\n",
            "Loss RPN classifier: 1.087601973155337\n",
            "Loss RPN regression: 0.22207171827368438\n",
            "Loss Detector classifier: 0.5539605313809589\n",
            "Loss Detector regression: 0.14388502388319466\n",
            "Total loss: 2.007519246693175\n",
            "Elapsed time: 394.9605462551117\n",
            "Total loss decreased from 2.0812641370889886 to 2.007519246693175, saving weights\n",
            "Epoch 16/20\n",
            "1000/1000 [==============================] - 392s 392ms/step - rpn_cls: 1.0364 - rpn_regr: 0.2108 - final_cls: 0.5413 - final_regr: 0.1466\n",
            "Mean number of bounding boxes from RPN overlapping ground truth boxes: 11.67564870259481\n",
            "Classifier accuracy for bounding boxes from RPN: 0.75825\n",
            "Loss RPN classifier: 1.0761870603369825\n",
            "Loss RPN regression: 0.21119355302117765\n",
            "Loss Detector classifier: 0.5487778853690252\n",
            "Loss Detector regression: 0.1436939356881194\n",
            "Total loss: 1.9798524344153048\n",
            "Elapsed time: 394.61414098739624\n",
            "Total loss decreased from 2.007519246693175 to 1.9798524344153048, saving weights\n",
            "Epoch 17/20\n",
            "1000/1000 [==============================] - 392s 392ms/step - rpn_cls: 1.0688 - rpn_regr: 0.2138 - final_cls: 0.5718 - final_regr: 0.1593\n",
            "Mean number of bounding boxes from RPN overlapping ground truth boxes: 11.497502497502497\n",
            "Classifier accuracy for bounding boxes from RPN: 0.7565\n",
            "Loss RPN classifier: 1.0367769389668102\n",
            "Loss RPN regression: 0.21112503639236094\n",
            "Loss Detector classifier: 0.5506157949138433\n",
            "Loss Detector regression: 0.1483506590318866\n",
            "Total loss: 1.946868429304901\n",
            "Elapsed time: 394.6649053096771\n",
            "Total loss decreased from 1.9798524344153048 to 1.946868429304901, saving weights\n",
            "Epoch 18/20\n",
            "1000/1000 [==============================] - 392s 392ms/step - rpn_cls: 1.0353 - rpn_regr: 0.2134 - final_cls: 0.5041 - final_regr: 0.1424\n",
            "Mean number of bounding boxes from RPN overlapping ground truth boxes: 11.473\n",
            "Classifier accuracy for bounding boxes from RPN: 0.7745\n",
            "Loss RPN classifier: 1.0005044113585717\n",
            "Loss RPN regression: 0.2097792668249458\n",
            "Loss Detector classifier: 0.514775773409754\n",
            "Loss Detector regression: 0.13944732995412779\n",
            "Total loss: 1.8645067815473992\n",
            "Elapsed time: 394.4943468570709\n",
            "Total loss decreased from 1.946868429304901 to 1.8645067815473992, saving weights\n",
            "Epoch 19/20\n",
            "1000/1000 [==============================] - 390s 390ms/step - rpn_cls: 0.9669 - rpn_regr: 0.2068 - final_cls: 0.5182 - final_regr: 0.1407\n",
            "Mean number of bounding boxes from RPN overlapping ground truth boxes: 11.698301698301698\n",
            "Classifier accuracy for bounding boxes from RPN: 0.778\n",
            "Loss RPN classifier: 1.0026562658811344\n",
            "Loss RPN regression: 0.20595039508119226\n",
            "Loss Detector classifier: 0.5226405185060575\n",
            "Loss Detector regression: 0.14474816699931398\n",
            "Total loss: 1.8759953464676984\n",
            "Elapsed time: 393.0154821872711\n",
            "Epoch 20/20\n",
            "1000/1000 [==============================] - 390s 390ms/step - rpn_cls: 0.9874 - rpn_regr: 0.2099 - final_cls: 0.4895 - final_regr: 0.1385\n",
            "Mean number of bounding boxes from RPN overlapping ground truth boxes: 11.283\n",
            "Classifier accuracy for bounding boxes from RPN: 0.7825\n",
            "Loss RPN classifier: 0.9456392019761006\n",
            "Loss RPN regression: 0.20788348417729138\n",
            "Loss Detector classifier: 0.5046629585013724\n",
            "Loss Detector regression: 0.1327001967135584\n",
            "Total loss: 1.7908858413683229\n",
            "Elapsed time: 390.0170738697052\n",
            "Total loss decreased from 1.8645067815473992 to 1.7908858413683229, saving weights\n",
            "Training complete, exiting.\n",
            "<Figure size 1500x500 with 2 Axes>\n",
            "<Figure size 1500x500 with 2 Axes>\n",
            "<Figure size 1500x500 with 2 Axes>\n",
            "<Figure size 640x480 with 1 Axes>\n",
            "\n",
            "\u001b[34m\u001b[1mwandb\u001b[0m: Waiting for W&B process to finish, PID 425\n",
            "\u001b[34m\u001b[1mwandb\u001b[0m: Program ended successfully.\n",
            "\u001b[34m\u001b[1mwandb\u001b[0m: Run summary:\n",
            "\u001b[34m\u001b[1mwandb\u001b[0m:   mean_overlapping_bboxes 11.283\n",
            "\u001b[34m\u001b[1mwandb\u001b[0m:              elapsed_time 6.5\n",
            "\u001b[34m\u001b[1mwandb\u001b[0m:                  _runtime 7938.833461046219\n",
            "\u001b[34m\u001b[1mwandb\u001b[0m:                 curr_loss 1.791\n",
            "\u001b[34m\u001b[1mwandb\u001b[0m:              loss_rpn_cls 0.946\n",
            "\u001b[34m\u001b[1mwandb\u001b[0m:           loss_class_regr 0.133\n",
            "\u001b[34m\u001b[1mwandb\u001b[0m:                _timestamp 1595351730.3637168\n",
            "\u001b[34m\u001b[1mwandb\u001b[0m:                     _step 19\n",
            "\u001b[34m\u001b[1mwandb\u001b[0m:                 class_acc 0.782\n",
            "\u001b[34m\u001b[1mwandb\u001b[0m:                       mAP 0\n",
            "\u001b[34m\u001b[1mwandb\u001b[0m:            loss_class_cls 0.505\n",
            "\u001b[34m\u001b[1mwandb\u001b[0m:             loss_rpn_regr 0.208\n",
            "\u001b[34m\u001b[1mwandb\u001b[0m: Syncing 5 W&B file(s), 0 media file(s), 0 artifact file(s) and 0 other file(s)\n",
            "\u001b[34m\u001b[1mwandb\u001b[0m:                                                                                \n",
            "\u001b[34m\u001b[1mwandb\u001b[0m: Synced lyric-sea-6: https://app.wandb.ai/hrishkeshpattepu/chargrid_fcrnn-/runs/106qagaq\n"
          ],
          "name": "stdout"
        }
      ]
    },
    {
      "cell_type": "code",
      "metadata": {
        "id": "PMrrbGMHZH9B",
        "colab_type": "code",
        "colab": {
          "base_uri": "https://localhost:8080/",
          "height": 1000
        },
        "outputId": "3b656827-0763-4861-9ff1-5ac6d9b0dac9"
      },
      "source": [
        "!zip -r /content/Chargrid_fcrnn/model_frcnn_vgg.hdf5.zip /content/Chargrid_fcrnn"
      ],
      "execution_count": 22,
      "outputs": [
        {
          "output_type": "stream",
          "text": [
            "  adding: content/Chargrid_fcrnn/ (stored 0%)\n",
            "  adding: content/Chargrid_fcrnn/__pycache__/ (stored 0%)\n",
            "  adding: content/Chargrid_fcrnn/__pycache__/data_generators.cpython-36.pyc (deflated 52%)\n",
            "  adding: content/Chargrid_fcrnn/data_generators.py (deflated 76%)\n",
            "  adding: content/Chargrid_fcrnn/record.csv (deflated 56%)\n",
            "  adding: content/Chargrid_fcrnn/model_frcnn_vgg.hdf5 (deflated 8%)\n",
            "  adding: content/Chargrid_fcrnn/train.py (deflated 73%)\n",
            "  adding: content/Chargrid_fcrnn/.gitignore (stored 0%)\n",
            "  adding: content/Chargrid_fcrnn/wandb/ (stored 0%)\n",
            "  adding: content/Chargrid_fcrnn/wandb/run-20200719_213131-jte80dmg/ (stored 0%)\n",
            "  adding: content/Chargrid_fcrnn/wandb/run-20200719_213131-jte80dmg/requirements.txt (deflated 55%)\n",
            "  adding: content/Chargrid_fcrnn/wandb/run-20200719_213131-jte80dmg/wandb-events.jsonl (deflated 82%)\n",
            "  adding: content/Chargrid_fcrnn/wandb/run-20200719_213131-jte80dmg/wandb-history.jsonl (stored 0%)\n",
            "  adding: content/Chargrid_fcrnn/wandb/run-20200719_213131-jte80dmg/config.yaml (deflated 31%)\n",
            "  adding: content/Chargrid_fcrnn/wandb/run-20200719_213131-jte80dmg/wandb-metadata.json (deflated 45%)\n",
            "  adding: content/Chargrid_fcrnn/wandb/run-20200719_213131-jte80dmg/output.log (deflated 91%)\n",
            "  adding: content/Chargrid_fcrnn/wandb/debug.log (deflated 97%)\n",
            "  adding: content/Chargrid_fcrnn/wandb/run-20200721_150311-106qagaq/ (stored 0%)\n",
            "  adding: content/Chargrid_fcrnn/wandb/run-20200721_150311-106qagaq/requirements.txt (deflated 55%)\n",
            "  adding: content/Chargrid_fcrnn/wandb/run-20200721_150311-106qagaq/wandb-events.jsonl (deflated 91%)\n",
            "  adding: content/Chargrid_fcrnn/wandb/run-20200721_150311-106qagaq/wandb-history.jsonl (deflated 79%)\n",
            "  adding: content/Chargrid_fcrnn/wandb/run-20200721_150311-106qagaq/wandb-summary.json (deflated 38%)\n",
            "  adding: content/Chargrid_fcrnn/wandb/run-20200721_150311-106qagaq/config.yaml (deflated 31%)\n",
            "  adding: content/Chargrid_fcrnn/wandb/run-20200721_150311-106qagaq/wandb-metadata.json (deflated 44%)\n",
            "  adding: content/Chargrid_fcrnn/wandb/run-20200721_150311-106qagaq/output.log (deflated 95%)\n",
            "  adding: content/Chargrid_fcrnn/keras_fcrnn/ (stored 0%)\n",
            "  adding: content/Chargrid_fcrnn/keras_fcrnn/__pycache__/ (stored 0%)\n",
            "  adding: content/Chargrid_fcrnn/keras_fcrnn/__pycache__/vgg.cpython-36.pyc (deflated 55%)\n",
            "  adding: content/Chargrid_fcrnn/keras_fcrnn/__pycache__/RoiPoolingConv.cpython-36.pyc (deflated 45%)\n",
            "  adding: content/Chargrid_fcrnn/keras_fcrnn/__pycache__/__init__.cpython-36.pyc (deflated 25%)\n",
            "  adding: content/Chargrid_fcrnn/keras_fcrnn/__pycache__/config.cpython-36.pyc (deflated 39%)\n",
            "  adding: content/Chargrid_fcrnn/keras_fcrnn/__init__.py (stored 0%)\n",
            "  adding: content/Chargrid_fcrnn/keras_fcrnn/vgg.py (deflated 72%)\n",
            "  adding: content/Chargrid_fcrnn/keras_fcrnn/RoiPoolingConv.py (deflated 63%)\n",
            "  adding: content/Chargrid_fcrnn/keras_fcrnn/config.py (deflated 61%)\n",
            "  adding: content/Chargrid_fcrnn/.git/ (stored 0%)\n",
            "  adding: content/Chargrid_fcrnn/.git/packed-refs (deflated 57%)\n",
            "  adding: content/Chargrid_fcrnn/.git/hooks/ (stored 0%)\n",
            "  adding: content/Chargrid_fcrnn/.git/hooks/update.sample (deflated 68%)\n",
            "  adding: content/Chargrid_fcrnn/.git/hooks/post-update.sample (deflated 27%)\n",
            "  adding: content/Chargrid_fcrnn/.git/hooks/pre-applypatch.sample (deflated 38%)\n",
            "  adding: content/Chargrid_fcrnn/.git/hooks/fsmonitor-watchman.sample (deflated 53%)\n",
            "  adding: content/Chargrid_fcrnn/.git/hooks/pre-push.sample (deflated 50%)\n",
            "  adding: content/Chargrid_fcrnn/.git/hooks/pre-receive.sample (deflated 40%)\n",
            "  adding: content/Chargrid_fcrnn/.git/hooks/commit-msg.sample (deflated 44%)\n",
            "  adding: content/Chargrid_fcrnn/.git/hooks/prepare-commit-msg.sample (deflated 50%)\n",
            "  adding: content/Chargrid_fcrnn/.git/hooks/pre-rebase.sample (deflated 59%)\n",
            "  adding: content/Chargrid_fcrnn/.git/hooks/pre-commit.sample (deflated 43%)\n",
            "  adding: content/Chargrid_fcrnn/.git/hooks/applypatch-msg.sample (deflated 42%)\n",
            "  adding: content/Chargrid_fcrnn/.git/description (deflated 14%)\n",
            "  adding: content/Chargrid_fcrnn/.git/refs/ (stored 0%)\n",
            "  adding: content/Chargrid_fcrnn/.git/refs/heads/ (stored 0%)\n",
            "  adding: content/Chargrid_fcrnn/.git/refs/heads/master (stored 0%)\n",
            "  adding: content/Chargrid_fcrnn/.git/refs/tags/ (stored 0%)\n",
            "  adding: content/Chargrid_fcrnn/.git/refs/remotes/ (stored 0%)\n",
            "  adding: content/Chargrid_fcrnn/.git/refs/remotes/origin/ (stored 0%)\n",
            "  adding: content/Chargrid_fcrnn/.git/refs/remotes/origin/HEAD (stored 0%)\n",
            "  adding: content/Chargrid_fcrnn/.git/logs/ (stored 0%)\n",
            "  adding: content/Chargrid_fcrnn/.git/logs/refs/ (stored 0%)\n",
            "  adding: content/Chargrid_fcrnn/.git/logs/refs/heads/ (stored 0%)\n",
            "  adding: content/Chargrid_fcrnn/.git/logs/refs/heads/master (deflated 27%)\n",
            "  adding: content/Chargrid_fcrnn/.git/logs/refs/remotes/ (stored 0%)\n",
            "  adding: content/Chargrid_fcrnn/.git/logs/refs/remotes/origin/ (stored 0%)\n",
            "  adding: content/Chargrid_fcrnn/.git/logs/refs/remotes/origin/HEAD (deflated 27%)\n",
            "  adding: content/Chargrid_fcrnn/.git/logs/HEAD (deflated 27%)\n",
            "  adding: content/Chargrid_fcrnn/.git/index (deflated 49%)\n",
            "  adding: content/Chargrid_fcrnn/.git/branches/ (stored 0%)\n",
            "  adding: content/Chargrid_fcrnn/.git/objects/ (stored 0%)\n",
            "  adding: content/Chargrid_fcrnn/.git/objects/5a/ (stored 0%)\n",
            "  adding: content/Chargrid_fcrnn/.git/objects/5a/225f341a55336be1f8e65b04823fd46c4138b7 (stored 0%)\n",
            "  adding: content/Chargrid_fcrnn/.git/objects/d8/ (stored 0%)\n",
            "  adding: content/Chargrid_fcrnn/.git/objects/d8/f0f12fa17ebda3b062f2d9241e2a268e3a6eab (stored 0%)\n",
            "  adding: content/Chargrid_fcrnn/.git/objects/77/ (stored 0%)\n",
            "  adding: content/Chargrid_fcrnn/.git/objects/77/2f358dabf16a5150b327da758385103b62e12e (stored 0%)\n",
            "  adding: content/Chargrid_fcrnn/.git/objects/77/ff38df92d60ab3dd3698331c4ef7c5b9023b5e (stored 0%)\n",
            "  adding: content/Chargrid_fcrnn/.git/objects/95/ (stored 0%)\n",
            "  adding: content/Chargrid_fcrnn/.git/objects/95/7de1c2a245293d341fdca1411674c3c49e773a (stored 0%)\n",
            "  adding: content/Chargrid_fcrnn/.git/objects/4a/ (stored 0%)\n",
            "  adding: content/Chargrid_fcrnn/.git/objects/4a/ace0e44c5107314456acb5c0873add5348f624 (stored 0%)\n",
            "  adding: content/Chargrid_fcrnn/.git/objects/72/ (stored 0%)\n",
            "  adding: content/Chargrid_fcrnn/.git/objects/72/1bcd944fc0fbd2a2a5ee38cd1e4b332f6ddb17 (stored 0%)\n",
            "  adding: content/Chargrid_fcrnn/.git/objects/71/ (stored 0%)\n",
            "  adding: content/Chargrid_fcrnn/.git/objects/71/b20d83482094132979991eee15a4b68b9c628f (stored 0%)\n",
            "  adding: content/Chargrid_fcrnn/.git/objects/69/ (stored 0%)\n",
            "  adding: content/Chargrid_fcrnn/.git/objects/69/1dd869cd87ce57617932c3f415860262dfd13a (stored 0%)\n",
            "  adding: content/Chargrid_fcrnn/.git/objects/69/5223295ffd166db477c3f6edbec146a3bf73b9 (stored 0%)\n",
            "  adding: content/Chargrid_fcrnn/.git/objects/30/ (stored 0%)\n",
            "  adding: content/Chargrid_fcrnn/.git/objects/30/f4076fbd2ff1034a9def5a42664d1cf84a58bc (stored 0%)\n",
            "  adding: content/Chargrid_fcrnn/.git/objects/90/ (stored 0%)\n",
            "  adding: content/Chargrid_fcrnn/.git/objects/90/fc9c9313d1a9e4dbda52ae98a86883239e523d (stored 0%)\n",
            "  adding: content/Chargrid_fcrnn/.git/objects/c4/ (stored 0%)\n",
            "  adding: content/Chargrid_fcrnn/.git/objects/c4/e9d852b50cb8f238e605a18717a8521805c954 (stored 0%)\n",
            "  adding: content/Chargrid_fcrnn/.git/objects/92/ (stored 0%)\n",
            "  adding: content/Chargrid_fcrnn/.git/objects/92/98a993af6cde8111f2f1f7928b23ec10e4dccf (stored 0%)\n",
            "  adding: content/Chargrid_fcrnn/.git/objects/05/ (stored 0%)\n",
            "  adding: content/Chargrid_fcrnn/.git/objects/05/1b61519f604930592a0ec9e905257bca490f08 (stored 0%)\n",
            "  adding: content/Chargrid_fcrnn/.git/objects/e6/ (stored 0%)\n",
            "  adding: content/Chargrid_fcrnn/.git/objects/e6/9de29bb2d1d6434b8b29ae775ad8c2e48c5391 (stored 0%)\n",
            "  adding: content/Chargrid_fcrnn/.git/objects/0f/ (stored 0%)\n",
            "  adding: content/Chargrid_fcrnn/.git/objects/0f/8168707a6b8aea794d84d1095898458c23b736 (stored 0%)\n",
            "  adding: content/Chargrid_fcrnn/.git/objects/a2/ (stored 0%)\n",
            "  adding: content/Chargrid_fcrnn/.git/objects/a2/dbec64a2c211d7fbb340ace68757df6224fb0c (stored 0%)\n",
            "  adding: content/Chargrid_fcrnn/.git/objects/62/ (stored 0%)\n",
            "  adding: content/Chargrid_fcrnn/.git/objects/62/6dfaa8b822d60b9597efb7a60e39ec2361803c (stored 0%)\n",
            "  adding: content/Chargrid_fcrnn/.git/objects/e2/ (stored 0%)\n",
            "  adding: content/Chargrid_fcrnn/.git/objects/e2/73b0c362a47e5624ef44b1b440e39a0defdae0 (stored 0%)\n",
            "  adding: content/Chargrid_fcrnn/.git/objects/34/ (stored 0%)\n",
            "  adding: content/Chargrid_fcrnn/.git/objects/34/aa9f1fd48bbf625b419c6946a130b29466d8b4 (stored 0%)\n",
            "  adding: content/Chargrid_fcrnn/.git/objects/a9/ (stored 0%)\n",
            "  adding: content/Chargrid_fcrnn/.git/objects/a9/aa9e4ab6095b5dc7e84a7308c9152b666b7a1a (stored 0%)\n",
            "  adding: content/Chargrid_fcrnn/.git/objects/80/ (stored 0%)\n",
            "  adding: content/Chargrid_fcrnn/.git/objects/80/4899fe944bcbd19f452e6f19a2f4b5866e92f7 (stored 0%)\n",
            "  adding: content/Chargrid_fcrnn/.git/objects/f5/ (stored 0%)\n",
            "  adding: content/Chargrid_fcrnn/.git/objects/f5/837e859794149fce8d4ec27027e3d6671a151e (stored 0%)\n",
            "  adding: content/Chargrid_fcrnn/.git/objects/3e/ (stored 0%)\n",
            "  adding: content/Chargrid_fcrnn/.git/objects/3e/ff0b9b17375668c6a41ffa896e8684fb7a5367 (stored 0%)\n",
            "  adding: content/Chargrid_fcrnn/.git/objects/pack/ (stored 0%)\n",
            "  adding: content/Chargrid_fcrnn/.git/objects/86/ (stored 0%)\n",
            "  adding: content/Chargrid_fcrnn/.git/objects/86/2c81015d478b283e796c7a6f2891aa1170a398 (stored 0%)\n",
            "  adding: content/Chargrid_fcrnn/.git/objects/f2/ (stored 0%)\n",
            "  adding: content/Chargrid_fcrnn/.git/objects/f2/227c43b76e668a6e96d992376b535321f30084 (deflated 0%)\n",
            "  adding: content/Chargrid_fcrnn/.git/objects/8d/ (stored 0%)\n",
            "  adding: content/Chargrid_fcrnn/.git/objects/8d/a6a0239f617ed4bea9bc8c25a301f87572f674 (stored 0%)\n",
            "  adding: content/Chargrid_fcrnn/.git/objects/8d/c76c8c7a27bdf1e37a230a4a60ef1f5a93bc56 (stored 0%)\n",
            "  adding: content/Chargrid_fcrnn/.git/objects/8d/546385fe60edbb9ff7af812070355e04fb1a13 (stored 0%)\n",
            "  adding: content/Chargrid_fcrnn/.git/objects/67/ (stored 0%)\n",
            "  adding: content/Chargrid_fcrnn/.git/objects/67/7d17eef6ecb35e3bc058b57aef43ffb61be924 (stored 0%)\n",
            "  adding: content/Chargrid_fcrnn/.git/objects/c0/ (stored 0%)\n",
            "  adding: content/Chargrid_fcrnn/.git/objects/c0/5f315bcc4e4d27f391ac030954558e2ba1f848 (stored 0%)\n",
            "  adding: content/Chargrid_fcrnn/.git/objects/ab/ (stored 0%)\n",
            "  adding: content/Chargrid_fcrnn/.git/objects/ab/ba7709aa6dc9837980818d400e7406a002a031 (stored 0%)\n",
            "  adding: content/Chargrid_fcrnn/.git/objects/ab/10f38487f0f9a7d561775761449f0368bbd70a (stored 0%)\n",
            "  adding: content/Chargrid_fcrnn/.git/objects/ab/4564ed719285492cb4199ef8b16a9970a41370 (stored 0%)\n",
            "  adding: content/Chargrid_fcrnn/.git/objects/75/ (stored 0%)\n",
            "  adding: content/Chargrid_fcrnn/.git/objects/75/eade601abe2f820d4f92d70de4082981a4cde9 (stored 0%)\n",
            "  adding: content/Chargrid_fcrnn/.git/objects/75/e9f63c5afa213b5ed5f85ed12c331f1d9b8ac3 (stored 0%)\n",
            "  adding: content/Chargrid_fcrnn/.git/objects/6b/ (stored 0%)\n",
            "  adding: content/Chargrid_fcrnn/.git/objects/6b/5be14e8470f6f73ce5c77f279c2b6bdc6837d5 (stored 0%)\n",
            "  adding: content/Chargrid_fcrnn/.git/objects/b1/ (stored 0%)\n",
            "  adding: content/Chargrid_fcrnn/.git/objects/b1/58c6cc54d32b7bc7cea204eb473ad476165655 (stored 0%)\n",
            "  adding: content/Chargrid_fcrnn/.git/objects/a3/ (stored 0%)\n",
            "  adding: content/Chargrid_fcrnn/.git/objects/a3/dbb9e9e8674d8096d3a48291961a07119688a7 (stored 0%)\n",
            "  adding: content/Chargrid_fcrnn/.git/objects/43/ (stored 0%)\n",
            "  adding: content/Chargrid_fcrnn/.git/objects/43/9283ce5ae41224336da864039ca5e69274f051 (stored 0%)\n",
            "  adding: content/Chargrid_fcrnn/.git/objects/11/ (stored 0%)\n",
            "  adding: content/Chargrid_fcrnn/.git/objects/11/a20db8d45bd4b9e0eeb9c572fdb21f3e113648 (stored 0%)\n",
            "  adding: content/Chargrid_fcrnn/.git/objects/db/ (stored 0%)\n",
            "  adding: content/Chargrid_fcrnn/.git/objects/db/b30d2f10175a710211f265fd05f0db09e0058e (stored 0%)\n",
            "  adding: content/Chargrid_fcrnn/.git/objects/b3/ (stored 0%)\n",
            "  adding: content/Chargrid_fcrnn/.git/objects/b3/f50e3347b5f4b389416e49f1cd31ceb88bd1ea (stored 0%)\n",
            "  adding: content/Chargrid_fcrnn/.git/objects/5c/ (stored 0%)\n",
            "  adding: content/Chargrid_fcrnn/.git/objects/5c/29496abe906ffab44c8db91e73517163180742 (stored 0%)\n",
            "  adding: content/Chargrid_fcrnn/.git/objects/7e/ (stored 0%)\n",
            "  adding: content/Chargrid_fcrnn/.git/objects/7e/7294a543eb89ee84a399ce5ec0d16149a8b809 (stored 0%)\n",
            "  adding: content/Chargrid_fcrnn/.git/objects/2c/ (stored 0%)\n",
            "  adding: content/Chargrid_fcrnn/.git/objects/2c/5949d0895e9c5583cca33cc1b082e231cfe3fd (stored 0%)\n",
            "  adding: content/Chargrid_fcrnn/.git/objects/b2/ (stored 0%)\n",
            "  adding: content/Chargrid_fcrnn/.git/objects/b2/2ed27ad5940554749c10f1b59cc96124aff330 (stored 0%)\n",
            "  adding: content/Chargrid_fcrnn/.git/objects/8b/ (stored 0%)\n",
            "  adding: content/Chargrid_fcrnn/.git/objects/8b/c929395e4e34fa7ee42268e0bf53e620c73083 (stored 0%)\n",
            "  adding: content/Chargrid_fcrnn/.git/objects/9c/ (stored 0%)\n",
            "  adding: content/Chargrid_fcrnn/.git/objects/9c/6328d1d0e8b9651be902c56c1238ed730cf3a7 (stored 0%)\n",
            "  adding: content/Chargrid_fcrnn/.git/objects/e1/ (stored 0%)\n",
            "  adding: content/Chargrid_fcrnn/.git/objects/e1/65cbde8aad56c647bc56901be3cc4f2fdbeca1 (stored 0%)\n",
            "  adding: content/Chargrid_fcrnn/.git/objects/6a/ (stored 0%)\n",
            "  adding: content/Chargrid_fcrnn/.git/objects/6a/81667d9864abb876da7053b73d7e67f036412f (stored 0%)\n",
            "  adding: content/Chargrid_fcrnn/.git/objects/76/ (stored 0%)\n",
            "  adding: content/Chargrid_fcrnn/.git/objects/76/18d43fcc92bf530e9b5b58fc1fa10dec19c1d1 (stored 0%)\n",
            "  adding: content/Chargrid_fcrnn/.git/objects/6d/ (stored 0%)\n",
            "  adding: content/Chargrid_fcrnn/.git/objects/6d/d029e4da16cd003498fce7f81e30ffe8785440 (stored 0%)\n",
            "  adding: content/Chargrid_fcrnn/.git/objects/58/ (stored 0%)\n",
            "  adding: content/Chargrid_fcrnn/.git/objects/58/3e90aff551e1d5cb68840167116550c38be159 (stored 0%)\n",
            "  adding: content/Chargrid_fcrnn/.git/objects/d6/ (stored 0%)\n",
            "  adding: content/Chargrid_fcrnn/.git/objects/d6/28974100a2c447c365b89d7c02b306c472cfe9 (stored 0%)\n",
            "  adding: content/Chargrid_fcrnn/.git/objects/41/ (stored 0%)\n",
            "  adding: content/Chargrid_fcrnn/.git/objects/41/1fb30726f4d86542e6081b47638d40c8da8846 (stored 0%)\n",
            "  adding: content/Chargrid_fcrnn/.git/objects/36/ (stored 0%)\n",
            "  adding: content/Chargrid_fcrnn/.git/objects/36/0e2f57855d5843572f40f4ad5d39c8552c20ce (stored 0%)\n",
            "  adding: content/Chargrid_fcrnn/.git/objects/03/ (stored 0%)\n",
            "  adding: content/Chargrid_fcrnn/.git/objects/03/7a749a2c9686910713586f37c4ac5606391eb2 (stored 0%)\n",
            "  adding: content/Chargrid_fcrnn/.git/objects/info/ (stored 0%)\n",
            "  adding: content/Chargrid_fcrnn/.git/objects/79/ (stored 0%)\n",
            "  adding: content/Chargrid_fcrnn/.git/objects/79/494968a62efc765c488a28512062151d4cdc88 (stored 0%)\n",
            "  adding: content/Chargrid_fcrnn/.git/objects/6c/ (stored 0%)\n",
            "  adding: content/Chargrid_fcrnn/.git/objects/6c/6dfa4785584ad95d961da27c8db50691eaef7f (stored 0%)\n",
            "  adding: content/Chargrid_fcrnn/.git/objects/89/ (stored 0%)\n",
            "  adding: content/Chargrid_fcrnn/.git/objects/89/4f5e88107c5e367a7bf26c89982aa919e3dee1 (stored 0%)\n",
            "  adding: content/Chargrid_fcrnn/.git/objects/eb/ (stored 0%)\n",
            "  adding: content/Chargrid_fcrnn/.git/objects/eb/57af7b6b11fa1361d1e6b11540130d71fcd4ef (stored 0%)\n",
            "  adding: content/Chargrid_fcrnn/.git/objects/82/ (stored 0%)\n",
            "  adding: content/Chargrid_fcrnn/.git/objects/82/d559d74c93517656560772121245c818dcea46 (stored 0%)\n",
            "  adding: content/Chargrid_fcrnn/.git/objects/51/ (stored 0%)\n",
            "  adding: content/Chargrid_fcrnn/.git/objects/51/21cd2d385f77c16b11b174f6288392c79ca34b (stored 0%)\n",
            "  adding: content/Chargrid_fcrnn/.git/objects/4d/ (stored 0%)\n",
            "  adding: content/Chargrid_fcrnn/.git/objects/4d/8b2ced0da71fb1c2260c2c98ba91a2bd4fcd2e (stored 0%)\n",
            "  adding: content/Chargrid_fcrnn/.git/objects/f1/ (stored 0%)\n",
            "  adding: content/Chargrid_fcrnn/.git/objects/f1/84a0d1c9fba7ca34ed0f47e83d0898c9c06182 (deflated 2%)\n",
            "  adding: content/Chargrid_fcrnn/.git/objects/1c/ (stored 0%)\n",
            "  adding: content/Chargrid_fcrnn/.git/objects/1c/9c8fa2aa6183a83f9ffbd8d21976768bd686a5 (stored 0%)\n",
            "  adding: content/Chargrid_fcrnn/.git/objects/2a/ (stored 0%)\n",
            "  adding: content/Chargrid_fcrnn/.git/objects/2a/f292b648b3e50bfe32a601977a42437fa5add1 (stored 0%)\n",
            "  adding: content/Chargrid_fcrnn/.git/objects/09/ (stored 0%)\n",
            "  adding: content/Chargrid_fcrnn/.git/objects/09/6f297aa8b777045cfc7b1e717dcb8e366a2a25 (stored 0%)\n",
            "  adding: content/Chargrid_fcrnn/.git/objects/d5/ (stored 0%)\n",
            "  adding: content/Chargrid_fcrnn/.git/objects/d5/031b38c1a92663c602d6c95fecb8384f7b79d5 (stored 0%)\n",
            "  adding: content/Chargrid_fcrnn/.git/objects/17/ (stored 0%)\n",
            "  adding: content/Chargrid_fcrnn/.git/objects/17/0bcd14ee26725af16f8057d73dc8d7b61f0c6c (stored 0%)\n",
            "  adding: content/Chargrid_fcrnn/.git/FETCH_HEAD (deflated 66%)\n",
            "  adding: content/Chargrid_fcrnn/.git/COMMIT_EDITMSG (stored 0%)\n",
            "  adding: content/Chargrid_fcrnn/.git/HEAD (stored 0%)\n",
            "  adding: content/Chargrid_fcrnn/.git/info/ (stored 0%)\n",
            "  adding: content/Chargrid_fcrnn/.git/info/exclude (deflated 28%)\n",
            "  adding: content/Chargrid_fcrnn/.git/config (deflated 32%)\n",
            "  adding: content/Chargrid_fcrnn/.git/ORIG_HEAD (stored 0%)\n",
            "  adding: content/Chargrid_fcrnn/preprocess_fcrnn.py (deflated 70%)\n",
            "  adding: content/Chargrid_fcrnn/model_vgg_config.pickle (deflated 35%)\n",
            "  adding: content/Chargrid_fcrnn/models/ (stored 0%)\n",
            "  adding: content/Chargrid_fcrnn/models/pretrain/ (stored 0%)\n",
            "  adding: content/Chargrid_fcrnn/models/pretrain/vgg16_weights_tf_dim_ordering_tf_kernels.h5 (deflated 7%)\n",
            "  adding: content/Chargrid_fcrnn/models/rpn/ (stored 0%)\n",
            "  adding: content/Chargrid_fcrnn/train_colab.ipynb (deflated 93%)\n"
          ],
          "name": "stdout"
        }
      ]
    },
    {
      "cell_type": "code",
      "metadata": {
        "id": "qpIjEq4V4w0_",
        "colab_type": "code",
        "colab": {}
      },
      "source": [
        "!gsutil -q -m cp /content/Chargrid_fcrnn/model_frcnn_vgg.hdf5.zip  /content/drive/My\\ Drive/\n"
      ],
      "execution_count": 31,
      "outputs": []
    },
    {
      "cell_type": "code",
      "metadata": {
        "id": "pWg4whrjiI5s",
        "colab_type": "code",
        "colab": {
          "base_uri": "https://localhost:8080/",
          "height": 68
        },
        "outputId": "db813be2-dc6e-46cc-e5a8-e2d1c8836b7f"
      },
      "source": [
        "!gsutil cp -r /content/Chargrid_fcrnn/model_frcnn_vgg.hdf5  /content/drive/My\\ Drive/"
      ],
      "execution_count": 35,
      "outputs": [
        {
          "output_type": "stream",
          "text": [
            "Copying file:///content/Chargrid_fcrnn/model_frcnn_vgg.hdf5...\n",
            "/ [0 files][    0.0 B/521.6 MiB]                                                \r/ [1 files][521.6 MiB/521.6 MiB]                                                \r-\r\n",
            "Operation completed over 1 objects/521.6 MiB.                                    \n"
          ],
          "name": "stdout"
        }
      ]
    },
    {
      "cell_type": "code",
      "metadata": {
        "id": "PXnZFBz9bF9s",
        "colab_type": "code",
        "colab": {
          "base_uri": "https://localhost:8080/",
          "height": 34
        },
        "outputId": "87c8bac9-2fd6-4649-851a-32d39776393c"
      },
      "source": [
        "!ls /content/drive/My\\ Drive/"
      ],
      "execution_count": 43,
      "outputs": [
        {
          "output_type": "stream",
          "text": [
            "model_frcnn_vgg.hdf5  model_frcnn_vgg.hdf5.zip\n"
          ],
          "name": "stdout"
        }
      ]
    },
    {
      "cell_type": "code",
      "metadata": {
        "id": "X4BYxMwEbISg",
        "colab_type": "code",
        "colab": {
          "base_uri": "https://localhost:8080/",
          "height": 34
        },
        "outputId": "d773b8ac-e3d6-430f-96cc-1d6ad4db8cf3"
      },
      "source": [
        "from google.colab import files\n",
        "files.download(\"/content/drive/My Drive/model_frcnn_vgg.hdf5\")"
      ],
      "execution_count": 39,
      "outputs": [
        {
          "output_type": "display_data",
          "data": {
            "application/javascript": [
              "\n",
              "    async function download(id, filename, size) {\n",
              "      if (!google.colab.kernel.accessAllowed) {\n",
              "        return;\n",
              "      }\n",
              "      const div = document.createElement('div');\n",
              "      const label = document.createElement('label');\n",
              "      label.textContent = `Downloading \"${filename}\": `;\n",
              "      div.appendChild(label);\n",
              "      const progress = document.createElement('progress');\n",
              "      progress.max = size;\n",
              "      div.appendChild(progress);\n",
              "      document.body.appendChild(div);\n",
              "\n",
              "      const buffers = [];\n",
              "      let downloaded = 0;\n",
              "\n",
              "      const channel = await google.colab.kernel.comms.open(id);\n",
              "      // Send a message to notify the kernel that we're ready.\n",
              "      channel.send({})\n",
              "\n",
              "      for await (const message of channel.messages) {\n",
              "        // Send a message to notify the kernel that we're ready.\n",
              "        channel.send({})\n",
              "        if (message.buffers) {\n",
              "          for (const buffer of message.buffers) {\n",
              "            buffers.push(buffer);\n",
              "            downloaded += buffer.byteLength;\n",
              "            progress.value = downloaded;\n",
              "          }\n",
              "        }\n",
              "      }\n",
              "      const blob = new Blob(buffers, {type: 'application/binary'});\n",
              "      const a = document.createElement('a');\n",
              "      a.href = window.URL.createObjectURL(blob);\n",
              "      a.download = filename;\n",
              "      div.appendChild(a);\n",
              "      a.click();\n",
              "      div.remove();\n",
              "    }\n",
              "  "
            ],
            "text/plain": [
              "<IPython.core.display.Javascript object>"
            ]
          },
          "metadata": {
            "tags": []
          }
        },
        {
          "output_type": "display_data",
          "data": {
            "application/javascript": [
              "download(\"download_138ae43f-15d6-4b98-8dcf-11c1d1ded4fb\", \"model_frcnn_vgg.hdf5\", 546991592)"
            ],
            "text/plain": [
              "<IPython.core.display.Javascript object>"
            ]
          },
          "metadata": {
            "tags": []
          }
        }
      ]
    }
  ]
}